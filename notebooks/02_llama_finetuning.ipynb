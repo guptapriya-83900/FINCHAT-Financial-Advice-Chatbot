{
 "cells": [
  {
   "cell_type": "code",
   "execution_count": 1,
   "id": "ce62175c",
   "metadata": {},
   "outputs": [
    {
     "name": "stdout",
     "output_type": "stream",
     "text": [
      "✅ Sample Q&A pair:\n",
      "                                              question  \\\n",
      "316  The Intelligent Investor: Northern Pacific Rai...   \n",
      "960  Can a single-member LLC have a fiscal year not...   \n",
      "49       Buying car from rental business without title   \n",
      "\n",
      "                                                answer  \n",
      "316  Here's the 2009-2014 return of the S&P 500 (SP...  \n",
      "960  Amazon has 2 different cards you can apply for...  \n",
      "49   \"According to an article on Bankrate.com from ...  \n"
     ]
    }
   ],
   "source": [
    "# 📘 02_llama_finetuning.ipynb\n",
    "\n",
    "import pandas as pd\n",
    "\n",
    "# Load synthetic Q&A data\n",
    "qa_path = \"../data/fiqa_dataset/fiqa_synthetic_qa.csv\"\n",
    "df_qa = pd.read_csv(qa_path)\n",
    "\n",
    "print(\"✅ Sample Q&A pair:\")\n",
    "print(df_qa.sample(3))\n"
   ]
  },
  {
   "cell_type": "code",
   "execution_count": 2,
   "id": "90249483",
   "metadata": {},
   "outputs": [
    {
     "name": "stdout",
     "output_type": "stream",
     "text": [
      "✅ Formatted sample:\n",
      "### User:\n",
      "Is a website/domain name an asset or a liability?\n",
      "\n",
      "### Assistant:\n",
      "I always find this funny. How can government bonds be in attractive and currency be attractive?  With monetary policy America guarantees that it can't default on debt. The only thing that can happen which breaks this is if the government prints itself out of debt. In which case not only will you bonds be worthless but so will your cash.  So to all the investors with boats of cash, you are trading one problem for the same problem. The only difference is you can hold the second problem in your hands.  Fools.\n"
     ]
    }
   ],
   "source": [
    "# Format each Q&A pair into instruction-prompt format\n",
    "def format_example(row):\n",
    "    return f\"### User:\\n{row['question']}\\n\\n### Assistant:\\n{row['answer']}\"\n",
    "\n",
    "# Apply formatting\n",
    "df_qa[\"formatted\"] = df_qa.apply(format_example, axis=1)\n",
    "\n",
    "# Preview formatted examples\n",
    "print(\"✅ Formatted sample:\")\n",
    "print(df_qa[\"formatted\"].sample(1).values[0])\n",
    "\n",
    "# Save to file for training\n",
    "df_qa[\"formatted\"].to_csv(\"../data/fiqa_dataset/fiqa_llama_formatted.txt\", index=False, header=False)\n"
   ]
  }
 ],
 "metadata": {
  "kernelspec": {
   "display_name": "f_venv",
   "language": "python",
   "name": "python3"
  },
  "language_info": {
   "codemirror_mode": {
    "name": "ipython",
    "version": 3
   },
   "file_extension": ".py",
   "mimetype": "text/x-python",
   "name": "python",
   "nbconvert_exporter": "python",
   "pygments_lexer": "ipython3",
   "version": "3.10.11"
  }
 },
 "nbformat": 4,
 "nbformat_minor": 5
}
