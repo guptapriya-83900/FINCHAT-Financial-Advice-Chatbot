{
 "cells": [
  {
   "cell_type": "code",
   "execution_count": 1,
   "id": "ce62175c",
   "metadata": {},
   "outputs": [
    {
     "name": "stdout",
     "output_type": "stream",
     "text": [
      "✅ Sample Q&A pair:\n",
      "                                              question  \\\n",
      "316  The Intelligent Investor: Northern Pacific Rai...   \n",
      "960  Can a single-member LLC have a fiscal year not...   \n",
      "49       Buying car from rental business without title   \n",
      "\n",
      "                                                answer  \n",
      "316  Here's the 2009-2014 return of the S&P 500 (SP...  \n",
      "960  Amazon has 2 different cards you can apply for...  \n",
      "49   \"According to an article on Bankrate.com from ...  \n"
     ]
    }
   ],
   "source": [
    "# 📘 02_llama_finetuning.ipynb\n",
    "\n",
    "import pandas as pd\n",
    "\n",
    "# Load synthetic Q&A data\n",
    "qa_path = \"../data/fiqa_dataset/fiqa_synthetic_qa.csv\"\n",
    "df_qa = pd.read_csv(qa_path)\n",
    "\n",
    "print(\"✅ Sample Q&A pair:\")\n",
    "print(df_qa.sample(3))\n"
   ]
  },
  {
   "cell_type": "code",
   "execution_count": 2,
   "id": "90249483",
   "metadata": {},
   "outputs": [
    {
     "name": "stdout",
     "output_type": "stream",
     "text": [
      "✅ Formatted sample:\n",
      "### User:\n",
      "Is a website/domain name an asset or a liability?\n",
      "\n",
      "### Assistant:\n",
      "I always find this funny. How can government bonds be in attractive and currency be attractive?  With monetary policy America guarantees that it can't default on debt. The only thing that can happen which breaks this is if the government prints itself out of debt. In which case not only will you bonds be worthless but so will your cash.  So to all the investors with boats of cash, you are trading one problem for the same problem. The only difference is you can hold the second problem in your hands.  Fools.\n"
     ]
    }
   ],
   "source": [
    "# Format each Q&A pair into instruction-prompt format\n",
    "def format_example(row):\n",
    "    return f\"### User:\\n{row['question']}\\n\\n### Assistant:\\n{row['answer']}\"\n",
    "\n",
    "# Apply formatting\n",
    "df_qa[\"formatted\"] = df_qa.apply(format_example, axis=1)\n",
    "\n",
    "# Preview formatted examples\n",
    "print(\"✅ Formatted sample:\")\n",
    "print(df_qa[\"formatted\"].sample(1).values[0])\n",
    "\n",
    "# Save to file for training\n",
    "df_qa[\"formatted\"].to_csv(\"../data/fiqa_dataset/fiqa_llama_formatted.txt\", index=False, header=False)\n"
   ]
  },
  {
   "cell_type": "code",
   "execution_count": null,
   "id": "88f8b6da",
   "metadata": {},
   "outputs": [],
   "source": [
    "from huggingface_hub import login\n",
    "login(token=\"YOUR_ACCESS_TOKEN\")"
   ]
  },
  {
   "cell_type": "code",
   "execution_count": null,
   "id": "39bef089",
   "metadata": {},
   "outputs": [
    {
     "name": "stderr",
     "output_type": "stream",
     "text": [
      "Some parameters are on the meta device because they were offloaded to the cpu and disk.\n"
     ]
    },
    {
     "name": "stderr",
     "output_type": "stream",
     "text": [
      "Error while downloading from https://cdn-lfs.hf.co/repos/8c/6e/8c6e9be084f67ff0b804baac0bd770fce63cb974ff15f95ee53080dbfd72aadf/f8da6a367550184167fcb64570699c2997fd4c8602a8c29e82d47e82a1880938?response-content-disposition=inline%3B+filename*%3DUTF-8%27%27model.safetensors%3B+filename%3D%22model.safetensors%22%3B&Expires=1745186051&Policy=eyJTdGF0ZW1lbnQiOlt7IkNvbmRpdGlvbiI6eyJEYXRlTGVzc1RoYW4iOnsiQVdTOkVwb2NoVGltZSI6MTc0NTE4NjA1MX19LCJSZXNvdXJjZSI6Imh0dHBzOi8vY2RuLWxmcy5oZi5jby9yZXBvcy84Yy82ZS84YzZlOWJlMDg0ZjY3ZmYwYjgwNGJhYWMwYmQ3NzBmY2U2M2NiOTc0ZmYxNWY5NWVlNTMwODBkYmZkNzJhYWRmL2Y4ZGE2YTM2NzU1MDE4NDE2N2ZjYjY0NTcwNjk5YzI5OTdmZDRjODYwMmE4YzI5ZTgyZDQ3ZTgyYTE4ODA5Mzg%7EcmVzcG9uc2UtY29udGVudC1kaXNwb3NpdGlvbj0qIn1dfQ__&Signature=joTGrvxb98OI7wkRoS9s-WOsQQRz31xVOZ2984TYDdyEvTRlNf95cLmxO4EsoheoLICHxcUpPBWi6GfDo-Hn7Ad-pEFCz%7E3jYGnq2itvddnsxfp48k15%7E%7EhCC-pvYtP9-fq7S5bNIvKVXyq8qDAAAO8NXRpZC09Qmy1WZ2hdm7FyKbozYM6qE1iTfsH2F3NQ9FKb26AQe-30wgcGpaMLsyF-NYB0bag0FXknqJ9i5MwEmdFa9%7E6b8mM1pteGgeIL34E7ciyVBgPzdKd7HliOYQTa5OiViLSQDG-a%7ETNJPjdaTfiI7mHkFBqmLTQ5SJQv2QkSCRLRVxObQaGGuZQUbg__&Key-Pair-Id=K3RPWS32NSSJCE: HTTPSConnectionPool(host='cdn-lfs.hf.co', port=443): Read timed out.\n",
      "Trying to resume download...\n",
      "Error while downloading from https://cdn-lfs.hf.co/repos/8c/6e/8c6e9be084f67ff0b804baac0bd770fce63cb974ff15f95ee53080dbfd72aadf/f8da6a367550184167fcb64570699c2997fd4c8602a8c29e82d47e82a1880938?response-content-disposition=inline%3B+filename*%3DUTF-8%27%27model.safetensors%3B+filename%3D%22model.safetensors%22%3B&Expires=1745186051&Policy=eyJTdGF0ZW1lbnQiOlt7IkNvbmRpdGlvbiI6eyJEYXRlTGVzc1RoYW4iOnsiQVdTOkVwb2NoVGltZSI6MTc0NTE4NjA1MX19LCJSZXNvdXJjZSI6Imh0dHBzOi8vY2RuLWxmcy5oZi5jby9yZXBvcy84Yy82ZS84YzZlOWJlMDg0ZjY3ZmYwYjgwNGJhYWMwYmQ3NzBmY2U2M2NiOTc0ZmYxNWY5NWVlNTMwODBkYmZkNzJhYWRmL2Y4ZGE2YTM2NzU1MDE4NDE2N2ZjYjY0NTcwNjk5YzI5OTdmZDRjODYwMmE4YzI5ZTgyZDQ3ZTgyYTE4ODA5Mzg%7EcmVzcG9uc2UtY29udGVudC1kaXNwb3NpdGlvbj0qIn1dfQ__&Signature=joTGrvxb98OI7wkRoS9s-WOsQQRz31xVOZ2984TYDdyEvTRlNf95cLmxO4EsoheoLICHxcUpPBWi6GfDo-Hn7Ad-pEFCz%7E3jYGnq2itvddnsxfp48k15%7E%7EhCC-pvYtP9-fq7S5bNIvKVXyq8qDAAAO8NXRpZC09Qmy1WZ2hdm7FyKbozYM6qE1iTfsH2F3NQ9FKb26AQe-30wgcGpaMLsyF-NYB0bag0FXknqJ9i5MwEmdFa9%7E6b8mM1pteGgeIL34E7ciyVBgPzdKd7HliOYQTa5OiViLSQDG-a%7ETNJPjdaTfiI7mHkFBqmLTQ5SJQv2QkSCRLRVxObQaGGuZQUbg__&Key-Pair-Id=K3RPWS32NSSJCE: HTTPSConnectionPool(host='cdn-lfs.hf.co', port=443): Read timed out.\n",
      "Trying to resume download...\n"
     ]
    }
   ],
   "source": [
    "import os\n",
    "from transformers import AutoTokenizer, AutoModelForCausalLM\n",
    "\n",
    "model_name = \"openlm-research/open_llama_3b\"\n",
    "\n",
    "# Load tokenizer\n",
    "tokenizer = AutoTokenizer.from_pretrained(model_name)\n",
    "\n",
    "# Set a folder to store temporarily offloaded weights\n",
    "offload_dir = \"./offload_weights\"\n",
    "os.makedirs(offload_dir, exist_ok=True)\n",
    "\n",
    "# Load model with offloading support\n",
    "model = AutoModelForCausalLM.from_pretrained(\n",
    "    model_name,\n",
    "    device_map=\"auto\",\n",
    "    offload_folder=offload_dir\n",
    ")\n"
   ]
  },
  {
   "cell_type": "code",
   "execution_count": 13,
   "id": "038f96b4",
   "metadata": {},
   "outputs": [
    {
     "name": "stdout",
     "output_type": "stream",
     "text": [
      "trainable params: 2,662,400 || all params: 3,429,136,000 || trainable%: 0.0776\n"
     ]
    }
   ],
   "source": [
    "from peft import LoraConfig, get_peft_model, TaskType\n",
    "lora_config = LoraConfig(\n",
    "    r=8,\n",
    "    lora_alpha=32,\n",
    "    target_modules=[\"q_proj\", \"v_proj\"],\n",
    "    lora_dropout=0.05,\n",
    "    bias=\"none\",\n",
    "    task_type=TaskType.CAUSAL_LM\n",
    ")\n",
    "\n",
    "model = get_peft_model(model, lora_config)\n",
    "model.print_trainable_parameters()\n"
   ]
  },
  {
   "cell_type": "code",
   "execution_count": null,
   "id": "4b621bab",
   "metadata": {},
   "outputs": [],
   "source": []
  }
 ],
 "metadata": {
  "kernelspec": {
   "display_name": "f_venv",
   "language": "python",
   "name": "python3"
  },
  "language_info": {
   "codemirror_mode": {
    "name": "ipython",
    "version": 3
   },
   "file_extension": ".py",
   "mimetype": "text/x-python",
   "name": "python",
   "nbconvert_exporter": "python",
   "pygments_lexer": "ipython3",
   "version": "3.10.11"
  }
 },
 "nbformat": 4,
 "nbformat_minor": 5
}
