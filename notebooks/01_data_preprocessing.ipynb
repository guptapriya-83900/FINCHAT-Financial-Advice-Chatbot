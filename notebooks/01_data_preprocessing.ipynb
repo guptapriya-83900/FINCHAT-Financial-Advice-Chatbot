{
 "cells": [
  {
   "cell_type": "markdown",
   "id": "17846b15",
   "metadata": {},
   "source": [
    "## FiQA-2018"
   ]
  },
  {
   "cell_type": "code",
   "execution_count": 4,
   "id": "fdc1f67e",
   "metadata": {},
   "outputs": [
    {
     "name": "stdout",
     "output_type": "stream",
     "text": [
      "🔹 Loading FiQA-2018...\n",
      "Corpus splits: dict_keys(['corpus'])\n",
      "Query splits: dict_keys(['queries'])\n",
      "\n",
      "✅ Corpus sample:\n",
      "{'_id': '3', 'title': '', 'text': \"I'm not saying I don't like the idea of on-the-job training too, but you can't expect the company to do that. Training workers is not their job - they're building software. Perhaps educational systems in the U.S. (or their students) should worry a little about getting marketable skills in exchange for their massive investment in education, rather than getting out with thousands in student debt and then complaining that they aren't qualified to do anything.\"}\n",
      "\n",
      "✅ Query sample:\n",
      "{'_id': '0', 'title': '', 'text': 'What is considered a business expense on a business trip?'}\n"
     ]
    }
   ],
   "source": [
    "# Step 1: Import packages\n",
    "import pandas as pd\n",
    "from datasets import load_dataset\n",
    "\n",
    "# Step 2: Load FiQA dataset from Hugging Face\n",
    "print(\"🔹 Loading FiQA-2018...\")\n",
    "# Load both the corpus (answers) and queries (questions)\n",
    "fiqa_corpus = load_dataset(\"BeIR/fiqa\", \"corpus\")\n",
    "fiqa_queries = load_dataset(\"BeIR/fiqa\", \"queries\")\n",
    "\n",
    "# Check available splits (this will tell you the correct keys)\n",
    "print(\"Corpus splits:\", fiqa_corpus.keys())\n",
    "print(\"Query splits:\", fiqa_queries.keys())\n",
    "\n",
    "# Access the first record from available split\n",
    "print(\"\\n✅ Corpus sample:\")\n",
    "print(fiqa_corpus[list(fiqa_corpus.keys())[0]][0])\n",
    "\n",
    "print(\"\\n✅ Query sample:\")\n",
    "print(fiqa_queries[list(fiqa_queries.keys())[0]][0])\n",
    "\n"
   ]
  },
  {
   "cell_type": "code",
   "execution_count": 8,
   "id": "7b033f4e",
   "metadata": {},
   "outputs": [
    {
     "name": "stdout",
     "output_type": "stream",
     "text": [
      "✅ Sample QA pair:\n",
      "                             question  \\\n",
      "291  How to categorize shared income?   \n",
      "\n",
      "                                                answer  \n",
      "291  I can go on a rant about how much I know, try ...  \n"
     ]
    }
   ],
   "source": [
    "from random import sample\n",
    "\n",
    "# Get the queries and corpus lists\n",
    "queries = fiqa_queries[\"queries\"]\n",
    "corpus = list(fiqa_corpus[\"corpus\"])\n",
    "\n",
    "# Create synthetic QA pairs (take top N)\n",
    "qa_pairs = []\n",
    "for i in range(1000):  # Limit to 1000 for now to speed things up\n",
    "    question = queries[i][\"text\"]\n",
    "    answer = sample(corpus, 1)[0][\"text\"]  # Random answer\n",
    "    qa_pairs.append({\"question\": question, \"answer\": answer})\n",
    "\n",
    "# Convert to DataFrame\n",
    "df_fiqa_qa = pd.DataFrame(qa_pairs)\n",
    "\n",
    "print(\"✅ Sample QA pair:\")\n",
    "print(df_fiqa_qa.sample(1))\n",
    "\n",
    "# Save as CSV for LLaMA training\n",
    "\n",
    "df_fiqa_qa.to_csv(\"../data/fiqa_dataset/fiqa_synthetic_qa.csv\", index=False)\n"
   ]
  },
  {
   "cell_type": "markdown",
   "id": "7ce7bc3c",
   "metadata": {},
   "source": [
    "## Financial PhraseBank Data\n"
   ]
  },
  {
   "cell_type": "code",
   "execution_count": 10,
   "id": "b6572141",
   "metadata": {},
   "outputs": [
    {
     "name": "stdout",
     "output_type": "stream",
     "text": [
      "✅ PhraseBank sample:\n",
      "     Sentiment                                             Phrase  label\n",
      "376   positive  The disposal of Autotank will also strengthen ...      2\n",
      "738   positive  Cencorp estimates that its net sales in the la...      2\n",
      "58     neutral  At the request of Finnish media company Alma M...      1\n",
      "2400   neutral  All YIT Capital Markets Day materials will be ...      1\n",
      "1908   neutral  Panostaja treats its negotiating partners , su...      1\n"
     ]
    }
   ],
   "source": [
    "# --- Load Financial PhraseBank from CSV ---\n",
    "import pandas as pd\n",
    "\n",
    "csv_path = \"../data/FinancialPhraseBank/financial_phrasebank.csv\"  # Update to your actual filename\n",
    "\n",
    "df_phrasebank = pd.read_csv(csv_path, header=None, names=[\"Sentiment\", \"Phrase\"],encoding=\"ISO-8859-1\")\n",
    "\n",
    "# Filter out only known sentiments\n",
    "valid_sentiments = [\"positive\", \"neutral\", \"negative\"]\n",
    "df_phrasebank = df_phrasebank[df_phrasebank[\"Sentiment\"].isin(valid_sentiments)]\n",
    "\n",
    "# Encode sentiment labels\n",
    "label_map = {\"negative\": 0, \"neutral\": 1, \"positive\": 2}\n",
    "df_phrasebank[\"label\"] = df_phrasebank[\"Sentiment\"].map(label_map)\n",
    "\n",
    "# Preview\n",
    "print(\"✅ PhraseBank sample:\")\n",
    "print(df_phrasebank.sample(5))\n",
    "\n",
    "# Save cleaned version\n",
    "df_phrasebank.to_csv(\"../data/financial_phrasebank_cleaned.csv\", index=False)"
   ]
  },
  {
   "cell_type": "code",
   "execution_count": null,
   "id": "f0e2e310",
   "metadata": {},
   "outputs": [],
   "source": []
  }
 ],
 "metadata": {
  "kernelspec": {
   "display_name": "f_venv",
   "language": "python",
   "name": "python3"
  },
  "language_info": {
   "codemirror_mode": {
    "name": "ipython",
    "version": 3
   },
   "file_extension": ".py",
   "mimetype": "text/x-python",
   "name": "python",
   "nbconvert_exporter": "python",
   "pygments_lexer": "ipython3",
   "version": "3.10.11"
  }
 },
 "nbformat": 4,
 "nbformat_minor": 5
}
